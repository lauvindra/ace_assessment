{
 "cells": [
  {
   "cell_type": "markdown",
   "id": "620a2365",
   "metadata": {},
   "source": [
    "# Task 3\n",
    "Feed the following paragraph into your favourite data analytics tool, and answer the following;"
   ]
  },
  {
   "cell_type": "code",
   "execution_count": 1,
   "id": "859123ac",
   "metadata": {},
   "outputs": [],
   "source": [
    "#Import all the neccessary frameworks\n",
    "import re\n",
    "from collections import Counter\n",
    "import pandas as pd\n",
    "import nltk \n",
    "from sklearn.feature_extraction.text import CountVectorizer, TfidfVectorizer \n",
    "from nltk.corpus import stopwords \n",
    "from nltk.tokenize import word_tokenize "
   ]
  },
  {
   "cell_type": "code",
   "execution_count": 2,
   "id": "ca09a6ac",
   "metadata": {},
   "outputs": [
    {
     "name": "stdout",
     "output_type": "stream",
     "text": [
      "As a term, data analytics predominantly refers to an assortment of applications, from basic \n",
      "business intelligence (BI), reporting and online analytical processing (OLAP) to various forms of \n",
      "advanced analytics. In that sense, it's similar in nature to business analytics, another umbrella \n",
      "term for approaches to analyzing data -- with the difference that the latter is oriented to \n",
      "business uses, while data analytics has a broader focus. The expansive view of the term isn't \n",
      "universal, though: In some cases, people use data analytics specifically to mean advanced \n",
      "analytics, treating BI as a separate category. Data analytics initiatives can help businesses \n",
      "increase revenues, improve operational efficiency, optimize marketing campaigns and customer \n",
      "service efforts, respond more quickly to emerging market trends and gain a competitive edge \n",
      "over rivals -- all with the ultimate goal of boosting business performance. Depending on the \n",
      "particular application, the data that's analyzed can consist of either historical records or new \n",
      "information that has been processed for real-time analytics uses. In addition, it can come from a \n",
      "mix of internal systems and external data sources. At a high level, data analytics methodologies \n",
      "include exploratory data analysis (EDA), which aims to find patterns and relationships in data, \n",
      "and confirmatory data analysis (CDA), which applies statistical techniques to determine whether \n",
      "hypotheses about a data set are true or false. EDA is often compared to detective work, while \n",
      "CDA is akin to the work of a judge or jury during a court trial -- a distinction first drawn by \n",
      "statistician John W. Tukey in his 1977 book Exploratory Data Analysis. Data analytics can also \n",
      "be separated into quantitative data analysis and qualitative data analysis. The former involves \n",
      "analysis of numerical data with quantifiable variables that can be compared or measured \n",
      "statistically. The qualitative approach is more interpretive -- it focuses on understanding the \n",
      "content of non-numerical data like text, images, audio and video, including common phrases, \n",
      "themes and points of view.\n"
     ]
    }
   ],
   "source": [
    "given_string = \"\"\"As a term, data analytics predominantly refers to an assortment of applications, from basic \\nbusiness intelligence (BI), reporting and online analytical processing (OLAP) to various forms of \\nadvanced analytics. In that sense, it's similar in nature to business analytics, another umbrella \\nterm for approaches to analyzing data -- with the difference that the latter is oriented to \\nbusiness uses, while data analytics has a broader focus. The expansive view of the term isn't \\nuniversal, though: In some cases, people use data analytics specifically to mean advanced \\nanalytics, treating BI as a separate category. Data analytics initiatives can help businesses \\nincrease revenues, improve operational efficiency, optimize marketing campaigns and customer \\nservice efforts, respond more quickly to emerging market trends and gain a competitive edge \\nover rivals -- all with the ultimate goal of boosting business performance. Depending on the \\nparticular application, the data that's analyzed can consist of either historical records or new \\ninformation that has been processed for real-time analytics uses. In addition, it can come from a \\nmix of internal systems and external data sources. At a high level, data analytics methodologies \\ninclude exploratory data analysis (EDA), which aims to find patterns and relationships in data, \\nand confirmatory data analysis (CDA), which applies statistical techniques to determine whether \\nhypotheses about a data set are true or false. EDA is often compared to detective work, while \\nCDA is akin to the work of a judge or jury during a court trial -- a distinction first drawn by \\nstatistician John W. Tukey in his 1977 book Exploratory Data Analysis. Data analytics can also \\nbe separated into quantitative data analysis and qualitative data analysis. The former involves \\nanalysis of numerical data with quantifiable variables that can be compared or measured \\nstatistically. The qualitative approach is more interpretive -- it focuses on understanding the \\ncontent of non-numerical data like text, images, audio and video, including common phrases, \\nthemes and points of view.\"\"\"\n",
    "print(given_string)"
   ]
  },
  {
   "cell_type": "code",
   "execution_count": 3,
   "id": "34df7ceb",
   "metadata": {},
   "outputs": [],
   "source": [
    "given_string = given_string.lower()"
   ]
  },
  {
   "cell_type": "code",
   "execution_count": 4,
   "id": "b135a51e",
   "metadata": {},
   "outputs": [],
   "source": [
    "line_list = given_string.splitlines()"
   ]
  },
  {
   "cell_type": "code",
   "execution_count": 5,
   "id": "509906e0",
   "metadata": {},
   "outputs": [
    {
     "data": {
      "text/plain": [
       "23"
      ]
     },
     "execution_count": 5,
     "metadata": {},
     "output_type": "execute_result"
    }
   ],
   "source": [
    "nlines = len(line_list)\n",
    "nlines"
   ]
  },
  {
   "cell_type": "code",
   "execution_count": 6,
   "id": "43ebf62b",
   "metadata": {},
   "outputs": [],
   "source": [
    "def tokenize(string):\n",
    "    return re.compile('\\w+').findall(string)\n",
    "\n",
    "def word_freq(string): \n",
    "    text = tokenize(string.lower())\n",
    "    c = Counter(text)           # count the words\n",
    "    d = Counter(''.join(text))  # count all letters\n",
    "    return (dict(c))    # return a tuple of counted words and letters\n",
    "\n",
    "def return_word_freq(string): \n",
    "    text = tokenize(string.lower())\n",
    "    c = Counter(text)           # count the words\n",
    "    d = Counter(''.join(text))  # count all letters\n",
    "    return (dict(c), dict(d))    # return a tuple of counted words and letters\n",
    "\n",
    "words = word_freq(given_string) # count and get dicts with counts\n",
    "words_, letters = return_word_freq(given_string)\n",
    "\n",
    "sumWords = sum(words.values())       # sum total words\n",
    "sumLetters = sum(letters.values())   # sum total letters"
   ]
  },
  {
   "cell_type": "code",
   "execution_count": 7,
   "id": "45935c4c",
   "metadata": {},
   "outputs": [
    {
     "data": {
      "text/plain": [
       "194"
      ]
     },
     "execution_count": 7,
     "metadata": {},
     "output_type": "execute_result"
    }
   ],
   "source": [
    "len(words)"
   ]
  },
  {
   "cell_type": "code",
   "execution_count": 8,
   "id": "641ffea8",
   "metadata": {},
   "outputs": [
    {
     "data": {
      "text/plain": [
       "{'a': 10, 'data': 18, 'analytics': 10, 'to': 11, 'of': 10, 'and': 9, 'the': 11}"
      ]
     },
     "execution_count": 8,
     "metadata": {},
     "output_type": "execute_result"
    }
   ],
   "source": [
    "{k:v for (k,v) in words.items() if v>8 }"
   ]
  },
  {
   "cell_type": "code",
   "execution_count": 9,
   "id": "81c7dc3d",
   "metadata": {},
   "outputs": [],
   "source": [
    "# The probability of an event A is the number of ways event A can occur divided by the total number of possible outcomes.\n",
    "data_count = words['data']\n",
    "analytics_count = words['analytics']"
   ]
  },
  {
   "cell_type": "code",
   "execution_count": 10,
   "id": "f9223980",
   "metadata": {},
   "outputs": [],
   "source": [
    "probablity_of_data_appearing_in_every_line = data_count/nlines"
   ]
  },
  {
   "cell_type": "code",
   "execution_count": 11,
   "id": "6ac2c258",
   "metadata": {},
   "outputs": [
    {
     "data": {
      "text/plain": [
       "0.782608695652174"
      ]
     },
     "execution_count": 11,
     "metadata": {},
     "output_type": "execute_result"
    }
   ],
   "source": [
    "probablity_of_data_appearing_in_every_line"
   ]
  },
  {
   "cell_type": "markdown",
   "id": "6602f17e",
   "metadata": {},
   "source": [
    "## Findings\n",
    "* The probability of data occcuring in each line is 78.26 %"
   ]
  },
  {
   "cell_type": "markdown",
   "id": "74a863fa",
   "metadata": {},
   "source": [
    "## b) What is the distribution of distinct word counts across all the lines ?"
   ]
  },
  {
   "cell_type": "code",
   "execution_count": 12,
   "id": "dd4ee616",
   "metadata": {},
   "outputs": [],
   "source": [
    "#Find all the unique words in a sentences\n",
    "line_unique_counts = []\n",
    "for line in line_list:\n",
    "    line_unique_counts.append(len(word_freq(line)))"
   ]
  },
  {
   "cell_type": "code",
   "execution_count": 13,
   "id": "a0c54ca2",
   "metadata": {},
   "outputs": [
    {
     "data": {
      "text/plain": [
       "[14,\n",
       " 13,\n",
       " 13,\n",
       " 13,\n",
       " 16,\n",
       " 13,\n",
       " 12,\n",
       " 10,\n",
       " 14,\n",
       " 13,\n",
       " 15,\n",
       " 17,\n",
       " 14,\n",
       " 13,\n",
       " 12,\n",
       " 17,\n",
       " 18,\n",
       " 14,\n",
       " 11,\n",
       " 13,\n",
       " 11,\n",
       " 14,\n",
       " 5]"
      ]
     },
     "execution_count": 13,
     "metadata": {},
     "output_type": "execute_result"
    }
   ],
   "source": [
    "line_unique_counts"
   ]
  },
  {
   "cell_type": "code",
   "execution_count": 14,
   "id": "68e82f17",
   "metadata": {},
   "outputs": [],
   "source": [
    "df_unique_words = pd.DataFrame(line_unique_counts)"
   ]
  },
  {
   "cell_type": "code",
   "execution_count": 15,
   "id": "990d71d6",
   "metadata": {},
   "outputs": [
    {
     "data": {
      "text/html": [
       "<div>\n",
       "<style scoped>\n",
       "    .dataframe tbody tr th:only-of-type {\n",
       "        vertical-align: middle;\n",
       "    }\n",
       "\n",
       "    .dataframe tbody tr th {\n",
       "        vertical-align: top;\n",
       "    }\n",
       "\n",
       "    .dataframe thead th {\n",
       "        text-align: right;\n",
       "    }\n",
       "</style>\n",
       "<table border=\"1\" class=\"dataframe\">\n",
       "  <thead>\n",
       "    <tr style=\"text-align: right;\">\n",
       "      <th></th>\n",
       "      <th>Unique_Words</th>\n",
       "    </tr>\n",
       "  </thead>\n",
       "  <tbody>\n",
       "    <tr>\n",
       "      <th>0</th>\n",
       "      <td>14</td>\n",
       "    </tr>\n",
       "    <tr>\n",
       "      <th>1</th>\n",
       "      <td>13</td>\n",
       "    </tr>\n",
       "    <tr>\n",
       "      <th>2</th>\n",
       "      <td>13</td>\n",
       "    </tr>\n",
       "    <tr>\n",
       "      <th>3</th>\n",
       "      <td>13</td>\n",
       "    </tr>\n",
       "    <tr>\n",
       "      <th>4</th>\n",
       "      <td>16</td>\n",
       "    </tr>\n",
       "    <tr>\n",
       "      <th>5</th>\n",
       "      <td>13</td>\n",
       "    </tr>\n",
       "    <tr>\n",
       "      <th>6</th>\n",
       "      <td>12</td>\n",
       "    </tr>\n",
       "    <tr>\n",
       "      <th>7</th>\n",
       "      <td>10</td>\n",
       "    </tr>\n",
       "    <tr>\n",
       "      <th>8</th>\n",
       "      <td>14</td>\n",
       "    </tr>\n",
       "    <tr>\n",
       "      <th>9</th>\n",
       "      <td>13</td>\n",
       "    </tr>\n",
       "    <tr>\n",
       "      <th>10</th>\n",
       "      <td>15</td>\n",
       "    </tr>\n",
       "    <tr>\n",
       "      <th>11</th>\n",
       "      <td>17</td>\n",
       "    </tr>\n",
       "    <tr>\n",
       "      <th>12</th>\n",
       "      <td>14</td>\n",
       "    </tr>\n",
       "    <tr>\n",
       "      <th>13</th>\n",
       "      <td>13</td>\n",
       "    </tr>\n",
       "    <tr>\n",
       "      <th>14</th>\n",
       "      <td>12</td>\n",
       "    </tr>\n",
       "    <tr>\n",
       "      <th>15</th>\n",
       "      <td>17</td>\n",
       "    </tr>\n",
       "    <tr>\n",
       "      <th>16</th>\n",
       "      <td>18</td>\n",
       "    </tr>\n",
       "    <tr>\n",
       "      <th>17</th>\n",
       "      <td>14</td>\n",
       "    </tr>\n",
       "    <tr>\n",
       "      <th>18</th>\n",
       "      <td>11</td>\n",
       "    </tr>\n",
       "    <tr>\n",
       "      <th>19</th>\n",
       "      <td>13</td>\n",
       "    </tr>\n",
       "    <tr>\n",
       "      <th>20</th>\n",
       "      <td>11</td>\n",
       "    </tr>\n",
       "    <tr>\n",
       "      <th>21</th>\n",
       "      <td>14</td>\n",
       "    </tr>\n",
       "    <tr>\n",
       "      <th>22</th>\n",
       "      <td>5</td>\n",
       "    </tr>\n",
       "  </tbody>\n",
       "</table>\n",
       "</div>"
      ],
      "text/plain": [
       "    Unique_Words\n",
       "0             14\n",
       "1             13\n",
       "2             13\n",
       "3             13\n",
       "4             16\n",
       "5             13\n",
       "6             12\n",
       "7             10\n",
       "8             14\n",
       "9             13\n",
       "10            15\n",
       "11            17\n",
       "12            14\n",
       "13            13\n",
       "14            12\n",
       "15            17\n",
       "16            18\n",
       "17            14\n",
       "18            11\n",
       "19            13\n",
       "20            11\n",
       "21            14\n",
       "22             5"
      ]
     },
     "execution_count": 15,
     "metadata": {},
     "output_type": "execute_result"
    }
   ],
   "source": [
    "df_unique_words.rename(columns={0: \"Unique_Words\"})"
   ]
  },
  {
   "cell_type": "code",
   "execution_count": 16,
   "id": "0f7263f6",
   "metadata": {},
   "outputs": [],
   "source": [
    "import seaborn as sns"
   ]
  },
  {
   "cell_type": "code",
   "execution_count": 17,
   "id": "dded1d8a",
   "metadata": {},
   "outputs": [
    {
     "name": "stderr",
     "output_type": "stream",
     "text": [
      "/home/lauvindra/anaconda3/envs/lau/lib/python3.10/site-packages/seaborn/distributions.py:2619: FutureWarning: `distplot` is a deprecated function and will be removed in a future version. Please adapt your code to use either `displot` (a figure-level function with similar flexibility) or `histplot` (an axes-level function for histograms).\n",
      "  warnings.warn(msg, FutureWarning)\n",
      "/home/lauvindra/anaconda3/envs/lau/lib/python3.10/site-packages/seaborn/distributions.py:2103: FutureWarning: The `axis` variable is no longer used and will be removed. Instead, assign variables directly to `x` or `y`.\n",
      "  warnings.warn(msg, FutureWarning)\n"
     ]
    },
    {
     "data": {
      "image/png": "[encoded data removed]",
      "text/plain": [
       "<Figure size 432x288 with 1 Axes>"
      ]
     },
     "metadata": {
      "needs_background": "light"
     },
     "output_type": "display_data"
    }
   ],
   "source": [
    "sns.distplot(df_unique_words, kde=True, rug=True);"
   ]
  },
  {
   "cell_type": "markdown",
   "id": "975db805",
   "metadata": {},
   "source": [
    "## Findings\n",
    "* It has a normal distribution"
   ]
  },
  {
   "cell_type": "markdown",
   "id": "f47f146e",
   "metadata": {},
   "source": [
    "## c) What is the probability of the word “analytics” occurring after the word “data” ?"
   ]
  },
  {
   "cell_type": "code",
   "execution_count": 18,
   "id": "3eea40e9",
   "metadata": {},
   "outputs": [
    {
     "name": "stdout",
     "output_type": "stream",
     "text": [
      "\n",
      "\n",
      "Words : \n",
      "                  term      rank\n",
      "80     data analytics  1.121468\n",
      "79      data analysis  1.074633\n",
      "100  exploratory data  0.509671\n",
      "159    numerical data  0.507052\n",
      "235        themes and  0.500000\n",
      "32         and points  0.500000\n",
      "186         points of  0.500000\n"
     ]
    },
    {
     "name": "stderr",
     "output_type": "stream",
     "text": [
      "/home/lauvindra/anaconda3/envs/lau/lib/python3.10/site-packages/sklearn/utils/deprecation.py:87: FutureWarning: Function get_feature_names is deprecated; get_feature_names is deprecated in 1.0 and will be removed in 1.2. Please use get_feature_names_out instead.\n",
      "  warnings.warn(msg, category=FutureWarning)\n"
     ]
    }
   ],
   "source": [
    "# Getting bigrams  \n",
    "vectorizer = CountVectorizer(ngram_range =(2, 2)) \n",
    "X1 = vectorizer.fit_transform(line_list)  \n",
    "features = (vectorizer.get_feature_names()) \n",
    "  \n",
    "# Applying TFIDF \n",
    "vectorizer = TfidfVectorizer(ngram_range = (2, 2)) \n",
    "X2 = vectorizer.fit_transform(line_list) \n",
    "scores = (X2.toarray()) \n",
    "# print(\"\\n\\nScores : \\n\", scores) \n",
    "  \n",
    "# Getting top ranking features \n",
    "sums = X2.sum(axis = 0) \n",
    "data1 = [] \n",
    "for col, term in enumerate(features): \n",
    "    data1.append( (term, sums[0, col] )) \n",
    "ranking = pd.DataFrame(data1, columns = ['term', 'rank']) \n",
    "words = (ranking.sort_values('rank', ascending = False)) \n",
    "print (\"\\n\\nWords : \\n\", words.head(7)) "
   ]
  },
  {
   "cell_type": "code",
   "execution_count": 19,
   "id": "9709a8dc",
   "metadata": {},
   "outputs": [
    {
     "name": "stdout",
     "output_type": "stream",
     "text": [
      "Number of times data analytics appear together: 6\n",
      "Number of times only analytics appear in complete text: 10\n"
     ]
    }
   ],
   "source": [
    "#The probability of an event A is the number of ways event A can occur divided by the total number of possible outcomes.\n",
    "import re\n",
    "from collections import Counter\n",
    "bigramwords = re.findall('\\w+', given_string)\n",
    "bigram_counts = Counter(zip(bigramwords,bigramwords[1:]))\n",
    "data_analytics_count = bigram_counts[(\"data\", \"analytics\")]\n",
    "print(f\"Number of times data analytics appear together: {data_analytics_count}\")\n",
    "print(f\"Number of times only analytics appear in complete text: {analytics_count}\")"
   ]
  },
  {
   "cell_type": "code",
   "execution_count": 20,
   "id": "26f34b7d",
   "metadata": {},
   "outputs": [
    {
     "name": "stdout",
     "output_type": "stream",
     "text": [
      "Probablity of analytics appearing after data: 0.6\n"
     ]
    }
   ],
   "source": [
    "print(f\"Probablity of analytics appearing after data: {data_analytics_count/analytics_count}\")"
   ]
  },
  {
   "cell_type": "markdown",
   "id": "09cc63cd",
   "metadata": {},
   "source": [
    "## Findings\n",
    "* It has a 60% chance that the word “analytics” occurring after the word “data”"
   ]
  }
 ],
 "metadata": {
  "kernelspec": {
   "display_name": "Python 3 (ipykernel)",
   "language": "python",
   "name": "python3"
  },
  "language_info": {
   "codemirror_mode": {
    "name": "ipython",
    "version": 3
   },
   "file_extension": ".py",
   "mimetype": "text/x-python",
   "name": "python",
   "nbconvert_exporter": "python",
   "pygments_lexer": "ipython3",
   "version": "3.10.0"
  }
 },
 "nbformat": 4,
 "nbformat_minor": 5
}
